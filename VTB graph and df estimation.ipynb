{
 "cells": [
  {
   "cell_type": "code",
   "execution_count": 1,
   "metadata": {},
   "outputs": [],
   "source": [
    "import pandas as pd\n",
    "import numpy as np\n",
    "import seaborn as sns\n",
    "from itertools import combinations\n",
    "\n",
    "import statsmodels\n",
    "import statsmodels.api as sm\n",
    "from statsmodels.formula.api import ols\n",
    "import statsmodels.stats.diagnostic as dg\n",
    "from statsmodels.stats.outliers_influence import variance_inflation_factor\n",
    "from statsmodels.stats.stattools import durbin_watson\n",
    "from statsmodels.tsa.stattools import adfuller\n",
    "from statsmodels.graphics.tsaplots import plot_acf\n",
    "\n",
    "from scipy.stats import shapiro\n",
    "from scipy.stats import mannwhitneyu\n",
    "\n",
    "import warnings\n",
    "warnings.filterwarnings(\"ignore\")\n",
    "\n",
    "import seaborn as sns\n",
    "from matplotlib import pyplot as plt"
   ]
  },
  {
   "cell_type": "code",
   "execution_count": 2,
   "metadata": {},
   "outputs": [
    {
     "data": {
      "text/html": [
       "<div>\n",
       "<style scoped>\n",
       "    .dataframe tbody tr th:only-of-type {\n",
       "        vertical-align: middle;\n",
       "    }\n",
       "\n",
       "    .dataframe tbody tr th {\n",
       "        vertical-align: top;\n",
       "    }\n",
       "\n",
       "    .dataframe thead th {\n",
       "        text-align: right;\n",
       "    }\n",
       "</style>\n",
       "<table border=\"1\" class=\"dataframe\">\n",
       "  <thead>\n",
       "    <tr style=\"text-align: right;\">\n",
       "      <th></th>\n",
       "      <th>&lt;TICKER&gt;</th>\n",
       "      <th>&lt;PER&gt;</th>\n",
       "      <th>&lt;DATE&gt;</th>\n",
       "      <th>&lt;TIME&gt;</th>\n",
       "      <th>&lt;OPEN&gt;</th>\n",
       "      <th>&lt;HIGH&gt;</th>\n",
       "      <th>&lt;LOW&gt;</th>\n",
       "      <th>&lt;CLOSE&gt;</th>\n",
       "      <th>&lt;VOL&gt;</th>\n",
       "    </tr>\n",
       "  </thead>\n",
       "  <tbody>\n",
       "    <tr>\n",
       "      <th>0</th>\n",
       "      <td>VTBR</td>\n",
       "      <td>D</td>\n",
       "      <td>2021-01-04</td>\n",
       "      <td>0</td>\n",
       "      <td>0.038025</td>\n",
       "      <td>0.038520</td>\n",
       "      <td>0.037800</td>\n",
       "      <td>0.037925</td>\n",
       "      <td>23826040000</td>\n",
       "    </tr>\n",
       "    <tr>\n",
       "      <th>1</th>\n",
       "      <td>VTBR</td>\n",
       "      <td>D</td>\n",
       "      <td>2021-01-05</td>\n",
       "      <td>0</td>\n",
       "      <td>0.037935</td>\n",
       "      <td>0.038600</td>\n",
       "      <td>0.037855</td>\n",
       "      <td>0.038445</td>\n",
       "      <td>28782590000</td>\n",
       "    </tr>\n",
       "    <tr>\n",
       "      <th>2</th>\n",
       "      <td>VTBR</td>\n",
       "      <td>D</td>\n",
       "      <td>2021-01-06</td>\n",
       "      <td>0</td>\n",
       "      <td>0.038525</td>\n",
       "      <td>0.038595</td>\n",
       "      <td>0.038050</td>\n",
       "      <td>0.038235</td>\n",
       "      <td>25428390000</td>\n",
       "    </tr>\n",
       "    <tr>\n",
       "      <th>3</th>\n",
       "      <td>VTBR</td>\n",
       "      <td>D</td>\n",
       "      <td>2021-01-08</td>\n",
       "      <td>0</td>\n",
       "      <td>0.038520</td>\n",
       "      <td>0.039095</td>\n",
       "      <td>0.038445</td>\n",
       "      <td>0.038940</td>\n",
       "      <td>39504750000</td>\n",
       "    </tr>\n",
       "    <tr>\n",
       "      <th>4</th>\n",
       "      <td>VTBR</td>\n",
       "      <td>D</td>\n",
       "      <td>2021-01-11</td>\n",
       "      <td>0</td>\n",
       "      <td>0.038740</td>\n",
       "      <td>0.040050</td>\n",
       "      <td>0.038410</td>\n",
       "      <td>0.039890</td>\n",
       "      <td>60293350000</td>\n",
       "    </tr>\n",
       "    <tr>\n",
       "      <th>...</th>\n",
       "      <td>...</td>\n",
       "      <td>...</td>\n",
       "      <td>...</td>\n",
       "      <td>...</td>\n",
       "      <td>...</td>\n",
       "      <td>...</td>\n",
       "      <td>...</td>\n",
       "      <td>...</td>\n",
       "      <td>...</td>\n",
       "    </tr>\n",
       "    <tr>\n",
       "      <th>584</th>\n",
       "      <td>VTBR</td>\n",
       "      <td>D</td>\n",
       "      <td>2023-05-22</td>\n",
       "      <td>0</td>\n",
       "      <td>0.023395</td>\n",
       "      <td>0.023480</td>\n",
       "      <td>0.022610</td>\n",
       "      <td>0.022885</td>\n",
       "      <td>170964670000</td>\n",
       "    </tr>\n",
       "    <tr>\n",
       "      <th>585</th>\n",
       "      <td>VTBR</td>\n",
       "      <td>D</td>\n",
       "      <td>2023-05-23</td>\n",
       "      <td>0</td>\n",
       "      <td>0.023125</td>\n",
       "      <td>0.023800</td>\n",
       "      <td>0.022800</td>\n",
       "      <td>0.023660</td>\n",
       "      <td>302238790000</td>\n",
       "    </tr>\n",
       "    <tr>\n",
       "      <th>586</th>\n",
       "      <td>VTBR</td>\n",
       "      <td>D</td>\n",
       "      <td>2023-05-24</td>\n",
       "      <td>0</td>\n",
       "      <td>0.023775</td>\n",
       "      <td>0.024070</td>\n",
       "      <td>0.023290</td>\n",
       "      <td>0.023625</td>\n",
       "      <td>291400320000</td>\n",
       "    </tr>\n",
       "    <tr>\n",
       "      <th>587</th>\n",
       "      <td>VTBR</td>\n",
       "      <td>D</td>\n",
       "      <td>2023-05-25</td>\n",
       "      <td>0</td>\n",
       "      <td>0.023600</td>\n",
       "      <td>0.023750</td>\n",
       "      <td>0.022880</td>\n",
       "      <td>0.023220</td>\n",
       "      <td>254696600000</td>\n",
       "    </tr>\n",
       "    <tr>\n",
       "      <th>588</th>\n",
       "      <td>VTBR</td>\n",
       "      <td>D</td>\n",
       "      <td>2023-05-26</td>\n",
       "      <td>0</td>\n",
       "      <td>0.023140</td>\n",
       "      <td>0.023640</td>\n",
       "      <td>0.022880</td>\n",
       "      <td>0.023250</td>\n",
       "      <td>221684160000</td>\n",
       "    </tr>\n",
       "  </tbody>\n",
       "</table>\n",
       "<p>589 rows × 9 columns</p>\n",
       "</div>"
      ],
      "text/plain": [
       "    <TICKER> <PER>     <DATE>  <TIME>    <OPEN>    <HIGH>     <LOW>   <CLOSE>  \\\n",
       "0       VTBR     D 2021-01-04       0  0.038025  0.038520  0.037800  0.037925   \n",
       "1       VTBR     D 2021-01-05       0  0.037935  0.038600  0.037855  0.038445   \n",
       "2       VTBR     D 2021-01-06       0  0.038525  0.038595  0.038050  0.038235   \n",
       "3       VTBR     D 2021-01-08       0  0.038520  0.039095  0.038445  0.038940   \n",
       "4       VTBR     D 2021-01-11       0  0.038740  0.040050  0.038410  0.039890   \n",
       "..       ...   ...        ...     ...       ...       ...       ...       ...   \n",
       "584     VTBR     D 2023-05-22       0  0.023395  0.023480  0.022610  0.022885   \n",
       "585     VTBR     D 2023-05-23       0  0.023125  0.023800  0.022800  0.023660   \n",
       "586     VTBR     D 2023-05-24       0  0.023775  0.024070  0.023290  0.023625   \n",
       "587     VTBR     D 2023-05-25       0  0.023600  0.023750  0.022880  0.023220   \n",
       "588     VTBR     D 2023-05-26       0  0.023140  0.023640  0.022880  0.023250   \n",
       "\n",
       "            <VOL>  \n",
       "0     23826040000  \n",
       "1     28782590000  \n",
       "2     25428390000  \n",
       "3     39504750000  \n",
       "4     60293350000  \n",
       "..            ...  \n",
       "584  170964670000  \n",
       "585  302238790000  \n",
       "586  291400320000  \n",
       "587  254696600000  \n",
       "588  221684160000  \n",
       "\n",
       "[589 rows x 9 columns]"
      ]
     },
     "execution_count": 2,
     "metadata": {},
     "output_type": "execute_result"
    }
   ],
   "source": [
    "data = pd.read_csv('VTB_1day.txt', sep=\",\", parse_dates=['<DATE>'])\n",
    "data"
   ]
  },
  {
   "cell_type": "code",
   "execution_count": 3,
   "metadata": {},
   "outputs": [],
   "source": [
    "data.columns = [\"Ticker\", \"Per\", \"Date\", \"Time\", \"Open\", \"High\", \"Low\", \"Price\", \"Volume\"]"
   ]
  },
  {
   "cell_type": "code",
   "execution_count": 4,
   "metadata": {},
   "outputs": [
    {
     "data": {
      "text/html": [
       "<div>\n",
       "<style scoped>\n",
       "    .dataframe tbody tr th:only-of-type {\n",
       "        vertical-align: middle;\n",
       "    }\n",
       "\n",
       "    .dataframe tbody tr th {\n",
       "        vertical-align: top;\n",
       "    }\n",
       "\n",
       "    .dataframe thead th {\n",
       "        text-align: right;\n",
       "    }\n",
       "</style>\n",
       "<table border=\"1\" class=\"dataframe\">\n",
       "  <thead>\n",
       "    <tr style=\"text-align: right;\">\n",
       "      <th></th>\n",
       "      <th>Ticker</th>\n",
       "      <th>Per</th>\n",
       "      <th>Date</th>\n",
       "      <th>Time</th>\n",
       "      <th>Open</th>\n",
       "      <th>High</th>\n",
       "      <th>Low</th>\n",
       "      <th>Price</th>\n",
       "      <th>Volume</th>\n",
       "    </tr>\n",
       "  </thead>\n",
       "  <tbody>\n",
       "    <tr>\n",
       "      <th>0</th>\n",
       "      <td>VTBR</td>\n",
       "      <td>D</td>\n",
       "      <td>2021-01-04</td>\n",
       "      <td>0</td>\n",
       "      <td>0.038025</td>\n",
       "      <td>0.038520</td>\n",
       "      <td>0.037800</td>\n",
       "      <td>0.037925</td>\n",
       "      <td>23826040000</td>\n",
       "    </tr>\n",
       "    <tr>\n",
       "      <th>1</th>\n",
       "      <td>VTBR</td>\n",
       "      <td>D</td>\n",
       "      <td>2021-01-05</td>\n",
       "      <td>0</td>\n",
       "      <td>0.037935</td>\n",
       "      <td>0.038600</td>\n",
       "      <td>0.037855</td>\n",
       "      <td>0.038445</td>\n",
       "      <td>28782590000</td>\n",
       "    </tr>\n",
       "    <tr>\n",
       "      <th>2</th>\n",
       "      <td>VTBR</td>\n",
       "      <td>D</td>\n",
       "      <td>2021-01-06</td>\n",
       "      <td>0</td>\n",
       "      <td>0.038525</td>\n",
       "      <td>0.038595</td>\n",
       "      <td>0.038050</td>\n",
       "      <td>0.038235</td>\n",
       "      <td>25428390000</td>\n",
       "    </tr>\n",
       "    <tr>\n",
       "      <th>3</th>\n",
       "      <td>VTBR</td>\n",
       "      <td>D</td>\n",
       "      <td>2021-01-08</td>\n",
       "      <td>0</td>\n",
       "      <td>0.038520</td>\n",
       "      <td>0.039095</td>\n",
       "      <td>0.038445</td>\n",
       "      <td>0.038940</td>\n",
       "      <td>39504750000</td>\n",
       "    </tr>\n",
       "    <tr>\n",
       "      <th>4</th>\n",
       "      <td>VTBR</td>\n",
       "      <td>D</td>\n",
       "      <td>2021-01-11</td>\n",
       "      <td>0</td>\n",
       "      <td>0.038740</td>\n",
       "      <td>0.040050</td>\n",
       "      <td>0.038410</td>\n",
       "      <td>0.039890</td>\n",
       "      <td>60293350000</td>\n",
       "    </tr>\n",
       "    <tr>\n",
       "      <th>...</th>\n",
       "      <td>...</td>\n",
       "      <td>...</td>\n",
       "      <td>...</td>\n",
       "      <td>...</td>\n",
       "      <td>...</td>\n",
       "      <td>...</td>\n",
       "      <td>...</td>\n",
       "      <td>...</td>\n",
       "      <td>...</td>\n",
       "    </tr>\n",
       "    <tr>\n",
       "      <th>584</th>\n",
       "      <td>VTBR</td>\n",
       "      <td>D</td>\n",
       "      <td>2023-05-22</td>\n",
       "      <td>0</td>\n",
       "      <td>0.023395</td>\n",
       "      <td>0.023480</td>\n",
       "      <td>0.022610</td>\n",
       "      <td>0.022885</td>\n",
       "      <td>170964670000</td>\n",
       "    </tr>\n",
       "    <tr>\n",
       "      <th>585</th>\n",
       "      <td>VTBR</td>\n",
       "      <td>D</td>\n",
       "      <td>2023-05-23</td>\n",
       "      <td>0</td>\n",
       "      <td>0.023125</td>\n",
       "      <td>0.023800</td>\n",
       "      <td>0.022800</td>\n",
       "      <td>0.023660</td>\n",
       "      <td>302238790000</td>\n",
       "    </tr>\n",
       "    <tr>\n",
       "      <th>586</th>\n",
       "      <td>VTBR</td>\n",
       "      <td>D</td>\n",
       "      <td>2023-05-24</td>\n",
       "      <td>0</td>\n",
       "      <td>0.023775</td>\n",
       "      <td>0.024070</td>\n",
       "      <td>0.023290</td>\n",
       "      <td>0.023625</td>\n",
       "      <td>291400320000</td>\n",
       "    </tr>\n",
       "    <tr>\n",
       "      <th>587</th>\n",
       "      <td>VTBR</td>\n",
       "      <td>D</td>\n",
       "      <td>2023-05-25</td>\n",
       "      <td>0</td>\n",
       "      <td>0.023600</td>\n",
       "      <td>0.023750</td>\n",
       "      <td>0.022880</td>\n",
       "      <td>0.023220</td>\n",
       "      <td>254696600000</td>\n",
       "    </tr>\n",
       "    <tr>\n",
       "      <th>588</th>\n",
       "      <td>VTBR</td>\n",
       "      <td>D</td>\n",
       "      <td>2023-05-26</td>\n",
       "      <td>0</td>\n",
       "      <td>0.023140</td>\n",
       "      <td>0.023640</td>\n",
       "      <td>0.022880</td>\n",
       "      <td>0.023250</td>\n",
       "      <td>221684160000</td>\n",
       "    </tr>\n",
       "  </tbody>\n",
       "</table>\n",
       "<p>589 rows × 9 columns</p>\n",
       "</div>"
      ],
      "text/plain": [
       "    Ticker Per       Date  Time      Open      High       Low     Price  \\\n",
       "0     VTBR   D 2021-01-04     0  0.038025  0.038520  0.037800  0.037925   \n",
       "1     VTBR   D 2021-01-05     0  0.037935  0.038600  0.037855  0.038445   \n",
       "2     VTBR   D 2021-01-06     0  0.038525  0.038595  0.038050  0.038235   \n",
       "3     VTBR   D 2021-01-08     0  0.038520  0.039095  0.038445  0.038940   \n",
       "4     VTBR   D 2021-01-11     0  0.038740  0.040050  0.038410  0.039890   \n",
       "..     ...  ..        ...   ...       ...       ...       ...       ...   \n",
       "584   VTBR   D 2023-05-22     0  0.023395  0.023480  0.022610  0.022885   \n",
       "585   VTBR   D 2023-05-23     0  0.023125  0.023800  0.022800  0.023660   \n",
       "586   VTBR   D 2023-05-24     0  0.023775  0.024070  0.023290  0.023625   \n",
       "587   VTBR   D 2023-05-25     0  0.023600  0.023750  0.022880  0.023220   \n",
       "588   VTBR   D 2023-05-26     0  0.023140  0.023640  0.022880  0.023250   \n",
       "\n",
       "           Volume  \n",
       "0     23826040000  \n",
       "1     28782590000  \n",
       "2     25428390000  \n",
       "3     39504750000  \n",
       "4     60293350000  \n",
       "..            ...  \n",
       "584  170964670000  \n",
       "585  302238790000  \n",
       "586  291400320000  \n",
       "587  254696600000  \n",
       "588  221684160000  \n",
       "\n",
       "[589 rows x 9 columns]"
      ]
     },
     "execution_count": 4,
     "metadata": {},
     "output_type": "execute_result"
    }
   ],
   "source": [
    "data"
   ]
  },
  {
   "cell_type": "code",
   "execution_count": 5,
   "metadata": {},
   "outputs": [],
   "source": [
    "data[[\"Open\", \"High\", \"Low\", \"Price\", \"Volume\"]] = data[[\"Open\", \"High\", \"Low\", \"Price\", \"Volume\"]].astype(float)"
   ]
  },
  {
   "cell_type": "code",
   "execution_count": 6,
   "metadata": {},
   "outputs": [],
   "source": [
    "data['Returns'] = np.log(data['Price']) - np.log(data['Price'].shift(1))"
   ]
  },
  {
   "cell_type": "code",
   "execution_count": 7,
   "metadata": {},
   "outputs": [
    {
     "data": {
      "text/html": [
       "<div>\n",
       "<style scoped>\n",
       "    .dataframe tbody tr th:only-of-type {\n",
       "        vertical-align: middle;\n",
       "    }\n",
       "\n",
       "    .dataframe tbody tr th {\n",
       "        vertical-align: top;\n",
       "    }\n",
       "\n",
       "    .dataframe thead th {\n",
       "        text-align: right;\n",
       "    }\n",
       "</style>\n",
       "<table border=\"1\" class=\"dataframe\">\n",
       "  <thead>\n",
       "    <tr style=\"text-align: right;\">\n",
       "      <th></th>\n",
       "      <th>Ticker</th>\n",
       "      <th>Per</th>\n",
       "      <th>Date</th>\n",
       "      <th>Time</th>\n",
       "      <th>Open</th>\n",
       "      <th>High</th>\n",
       "      <th>Low</th>\n",
       "      <th>Price</th>\n",
       "      <th>Volume</th>\n",
       "      <th>Returns</th>\n",
       "    </tr>\n",
       "  </thead>\n",
       "  <tbody>\n",
       "    <tr>\n",
       "      <th>0</th>\n",
       "      <td>VTBR</td>\n",
       "      <td>D</td>\n",
       "      <td>2021-01-04</td>\n",
       "      <td>0</td>\n",
       "      <td>0.038025</td>\n",
       "      <td>0.038520</td>\n",
       "      <td>0.037800</td>\n",
       "      <td>0.037925</td>\n",
       "      <td>2.382604e+10</td>\n",
       "      <td>NaN</td>\n",
       "    </tr>\n",
       "    <tr>\n",
       "      <th>1</th>\n",
       "      <td>VTBR</td>\n",
       "      <td>D</td>\n",
       "      <td>2021-01-05</td>\n",
       "      <td>0</td>\n",
       "      <td>0.037935</td>\n",
       "      <td>0.038600</td>\n",
       "      <td>0.037855</td>\n",
       "      <td>0.038445</td>\n",
       "      <td>2.878259e+10</td>\n",
       "      <td>0.013618</td>\n",
       "    </tr>\n",
       "    <tr>\n",
       "      <th>2</th>\n",
       "      <td>VTBR</td>\n",
       "      <td>D</td>\n",
       "      <td>2021-01-06</td>\n",
       "      <td>0</td>\n",
       "      <td>0.038525</td>\n",
       "      <td>0.038595</td>\n",
       "      <td>0.038050</td>\n",
       "      <td>0.038235</td>\n",
       "      <td>2.542839e+10</td>\n",
       "      <td>-0.005477</td>\n",
       "    </tr>\n",
       "    <tr>\n",
       "      <th>3</th>\n",
       "      <td>VTBR</td>\n",
       "      <td>D</td>\n",
       "      <td>2021-01-08</td>\n",
       "      <td>0</td>\n",
       "      <td>0.038520</td>\n",
       "      <td>0.039095</td>\n",
       "      <td>0.038445</td>\n",
       "      <td>0.038940</td>\n",
       "      <td>3.950475e+10</td>\n",
       "      <td>0.018271</td>\n",
       "    </tr>\n",
       "    <tr>\n",
       "      <th>4</th>\n",
       "      <td>VTBR</td>\n",
       "      <td>D</td>\n",
       "      <td>2021-01-11</td>\n",
       "      <td>0</td>\n",
       "      <td>0.038740</td>\n",
       "      <td>0.040050</td>\n",
       "      <td>0.038410</td>\n",
       "      <td>0.039890</td>\n",
       "      <td>6.029335e+10</td>\n",
       "      <td>0.024104</td>\n",
       "    </tr>\n",
       "    <tr>\n",
       "      <th>...</th>\n",
       "      <td>...</td>\n",
       "      <td>...</td>\n",
       "      <td>...</td>\n",
       "      <td>...</td>\n",
       "      <td>...</td>\n",
       "      <td>...</td>\n",
       "      <td>...</td>\n",
       "      <td>...</td>\n",
       "      <td>...</td>\n",
       "      <td>...</td>\n",
       "    </tr>\n",
       "    <tr>\n",
       "      <th>584</th>\n",
       "      <td>VTBR</td>\n",
       "      <td>D</td>\n",
       "      <td>2023-05-22</td>\n",
       "      <td>0</td>\n",
       "      <td>0.023395</td>\n",
       "      <td>0.023480</td>\n",
       "      <td>0.022610</td>\n",
       "      <td>0.022885</td>\n",
       "      <td>1.709647e+11</td>\n",
       "      <td>-0.010649</td>\n",
       "    </tr>\n",
       "    <tr>\n",
       "      <th>585</th>\n",
       "      <td>VTBR</td>\n",
       "      <td>D</td>\n",
       "      <td>2023-05-23</td>\n",
       "      <td>0</td>\n",
       "      <td>0.023125</td>\n",
       "      <td>0.023800</td>\n",
       "      <td>0.022800</td>\n",
       "      <td>0.023660</td>\n",
       "      <td>3.022388e+11</td>\n",
       "      <td>0.033304</td>\n",
       "    </tr>\n",
       "    <tr>\n",
       "      <th>586</th>\n",
       "      <td>VTBR</td>\n",
       "      <td>D</td>\n",
       "      <td>2023-05-24</td>\n",
       "      <td>0</td>\n",
       "      <td>0.023775</td>\n",
       "      <td>0.024070</td>\n",
       "      <td>0.023290</td>\n",
       "      <td>0.023625</td>\n",
       "      <td>2.914003e+11</td>\n",
       "      <td>-0.001480</td>\n",
       "    </tr>\n",
       "    <tr>\n",
       "      <th>587</th>\n",
       "      <td>VTBR</td>\n",
       "      <td>D</td>\n",
       "      <td>2023-05-25</td>\n",
       "      <td>0</td>\n",
       "      <td>0.023600</td>\n",
       "      <td>0.023750</td>\n",
       "      <td>0.022880</td>\n",
       "      <td>0.023220</td>\n",
       "      <td>2.546966e+11</td>\n",
       "      <td>-0.017291</td>\n",
       "    </tr>\n",
       "    <tr>\n",
       "      <th>588</th>\n",
       "      <td>VTBR</td>\n",
       "      <td>D</td>\n",
       "      <td>2023-05-26</td>\n",
       "      <td>0</td>\n",
       "      <td>0.023140</td>\n",
       "      <td>0.023640</td>\n",
       "      <td>0.022880</td>\n",
       "      <td>0.023250</td>\n",
       "      <td>2.216842e+11</td>\n",
       "      <td>0.001291</td>\n",
       "    </tr>\n",
       "  </tbody>\n",
       "</table>\n",
       "<p>589 rows × 10 columns</p>\n",
       "</div>"
      ],
      "text/plain": [
       "    Ticker Per       Date  Time      Open      High       Low     Price  \\\n",
       "0     VTBR   D 2021-01-04     0  0.038025  0.038520  0.037800  0.037925   \n",
       "1     VTBR   D 2021-01-05     0  0.037935  0.038600  0.037855  0.038445   \n",
       "2     VTBR   D 2021-01-06     0  0.038525  0.038595  0.038050  0.038235   \n",
       "3     VTBR   D 2021-01-08     0  0.038520  0.039095  0.038445  0.038940   \n",
       "4     VTBR   D 2021-01-11     0  0.038740  0.040050  0.038410  0.039890   \n",
       "..     ...  ..        ...   ...       ...       ...       ...       ...   \n",
       "584   VTBR   D 2023-05-22     0  0.023395  0.023480  0.022610  0.022885   \n",
       "585   VTBR   D 2023-05-23     0  0.023125  0.023800  0.022800  0.023660   \n",
       "586   VTBR   D 2023-05-24     0  0.023775  0.024070  0.023290  0.023625   \n",
       "587   VTBR   D 2023-05-25     0  0.023600  0.023750  0.022880  0.023220   \n",
       "588   VTBR   D 2023-05-26     0  0.023140  0.023640  0.022880  0.023250   \n",
       "\n",
       "           Volume   Returns  \n",
       "0    2.382604e+10       NaN  \n",
       "1    2.878259e+10  0.013618  \n",
       "2    2.542839e+10 -0.005477  \n",
       "3    3.950475e+10  0.018271  \n",
       "4    6.029335e+10  0.024104  \n",
       "..            ...       ...  \n",
       "584  1.709647e+11 -0.010649  \n",
       "585  3.022388e+11  0.033304  \n",
       "586  2.914003e+11 -0.001480  \n",
       "587  2.546966e+11 -0.017291  \n",
       "588  2.216842e+11  0.001291  \n",
       "\n",
       "[589 rows x 10 columns]"
      ]
     },
     "execution_count": 7,
     "metadata": {},
     "output_type": "execute_result"
    }
   ],
   "source": [
    "data"
   ]
  },
  {
   "cell_type": "code",
   "execution_count": 8,
   "metadata": {},
   "outputs": [
    {
     "data": {
      "text/html": [
       "<div>\n",
       "<style scoped>\n",
       "    .dataframe tbody tr th:only-of-type {\n",
       "        vertical-align: middle;\n",
       "    }\n",
       "\n",
       "    .dataframe tbody tr th {\n",
       "        vertical-align: top;\n",
       "    }\n",
       "\n",
       "    .dataframe thead th {\n",
       "        text-align: right;\n",
       "    }\n",
       "</style>\n",
       "<table border=\"1\" class=\"dataframe\">\n",
       "  <thead>\n",
       "    <tr style=\"text-align: right;\">\n",
       "      <th></th>\n",
       "      <th>Variable</th>\n",
       "      <th>p-value</th>\n",
       "      <th>Result</th>\n",
       "    </tr>\n",
       "  </thead>\n",
       "  <tbody>\n",
       "    <tr>\n",
       "      <th>0</th>\n",
       "      <td>Returns</td>\n",
       "      <td>1.635653e-08</td>\n",
       "      <td>stationary</td>\n",
       "    </tr>\n",
       "  </tbody>\n",
       "</table>\n",
       "</div>"
      ],
      "text/plain": [
       "  Variable       p-value      Result\n",
       "0  Returns  1.635653e-08  stationary"
      ]
     },
     "execution_count": 8,
     "metadata": {},
     "output_type": "execute_result"
    }
   ],
   "source": [
    "p_dful = []\n",
    "result = []\n",
    "\n",
    "p_dful.append(adfuller(data['Returns'].dropna())[1])\n",
    "if adfuller(data['Returns'].dropna())[1] < 0.05: \n",
    "    result.append('stationary')\n",
    "else: result.append('non-stationary')\n",
    "\n",
    "variable = ['Returns']      \n",
    "zipped = list(zip(variable, p_dful, result))\n",
    "pd.DataFrame(zipped, columns = ['Variable', 'p-value', 'Result'])"
   ]
  },
  {
   "cell_type": "code",
   "execution_count": 9,
   "metadata": {},
   "outputs": [
    {
     "data": {
      "text/plain": [
       "-6.437874734655526"
      ]
     },
     "execution_count": 9,
     "metadata": {},
     "output_type": "execute_result"
    }
   ],
   "source": [
    " adfuller(data['Returns'].dropna())[0]"
   ]
  },
  {
   "cell_type": "code",
   "execution_count": 19,
   "metadata": {},
   "outputs": [],
   "source": [
    "data[\"Week\"] = 1\n",
    "data[\"Year\"] = 1"
   ]
  },
  {
   "cell_type": "code",
   "execution_count": 20,
   "metadata": {},
   "outputs": [],
   "source": [
    "for i in range(0,589):\n",
    "    data.Week[i] = data[\"Date\"][i].isocalendar()[1]"
   ]
  },
  {
   "cell_type": "code",
   "execution_count": 21,
   "metadata": {},
   "outputs": [],
   "source": [
    "for i in range(0,589):\n",
    "    data.Year[i] = data[\"Date\"][i].isocalendar()[0]"
   ]
  },
  {
   "cell_type": "code",
   "execution_count": 22,
   "metadata": {},
   "outputs": [
    {
     "data": {
      "text/html": [
       "<div>\n",
       "<style scoped>\n",
       "    .dataframe tbody tr th:only-of-type {\n",
       "        vertical-align: middle;\n",
       "    }\n",
       "\n",
       "    .dataframe tbody tr th {\n",
       "        vertical-align: top;\n",
       "    }\n",
       "\n",
       "    .dataframe thead th {\n",
       "        text-align: right;\n",
       "    }\n",
       "</style>\n",
       "<table border=\"1\" class=\"dataframe\">\n",
       "  <thead>\n",
       "    <tr style=\"text-align: right;\">\n",
       "      <th></th>\n",
       "      <th>Ticker</th>\n",
       "      <th>Per</th>\n",
       "      <th>Date</th>\n",
       "      <th>Time</th>\n",
       "      <th>Open</th>\n",
       "      <th>High</th>\n",
       "      <th>Low</th>\n",
       "      <th>Price</th>\n",
       "      <th>Volume</th>\n",
       "      <th>Returns</th>\n",
       "      <th>Week</th>\n",
       "      <th>Year</th>\n",
       "      <th>Week_Year</th>\n",
       "    </tr>\n",
       "  </thead>\n",
       "  <tbody>\n",
       "    <tr>\n",
       "      <th>0</th>\n",
       "      <td>VTBR</td>\n",
       "      <td>D</td>\n",
       "      <td>2021-01-04</td>\n",
       "      <td>0</td>\n",
       "      <td>0.038025</td>\n",
       "      <td>0.038520</td>\n",
       "      <td>0.037800</td>\n",
       "      <td>0.037925</td>\n",
       "      <td>2.382604e+10</td>\n",
       "      <td>NaN</td>\n",
       "      <td>1</td>\n",
       "      <td>2021</td>\n",
       "      <td>1 2021</td>\n",
       "    </tr>\n",
       "    <tr>\n",
       "      <th>1</th>\n",
       "      <td>VTBR</td>\n",
       "      <td>D</td>\n",
       "      <td>2021-01-05</td>\n",
       "      <td>0</td>\n",
       "      <td>0.037935</td>\n",
       "      <td>0.038600</td>\n",
       "      <td>0.037855</td>\n",
       "      <td>0.038445</td>\n",
       "      <td>2.878259e+10</td>\n",
       "      <td>0.013618</td>\n",
       "      <td>1</td>\n",
       "      <td>2021</td>\n",
       "      <td>1 2021</td>\n",
       "    </tr>\n",
       "    <tr>\n",
       "      <th>2</th>\n",
       "      <td>VTBR</td>\n",
       "      <td>D</td>\n",
       "      <td>2021-01-06</td>\n",
       "      <td>0</td>\n",
       "      <td>0.038525</td>\n",
       "      <td>0.038595</td>\n",
       "      <td>0.038050</td>\n",
       "      <td>0.038235</td>\n",
       "      <td>2.542839e+10</td>\n",
       "      <td>-0.005477</td>\n",
       "      <td>1</td>\n",
       "      <td>2021</td>\n",
       "      <td>1 2021</td>\n",
       "    </tr>\n",
       "    <tr>\n",
       "      <th>3</th>\n",
       "      <td>VTBR</td>\n",
       "      <td>D</td>\n",
       "      <td>2021-01-08</td>\n",
       "      <td>0</td>\n",
       "      <td>0.038520</td>\n",
       "      <td>0.039095</td>\n",
       "      <td>0.038445</td>\n",
       "      <td>0.038940</td>\n",
       "      <td>3.950475e+10</td>\n",
       "      <td>0.018271</td>\n",
       "      <td>1</td>\n",
       "      <td>2021</td>\n",
       "      <td>1 2021</td>\n",
       "    </tr>\n",
       "    <tr>\n",
       "      <th>4</th>\n",
       "      <td>VTBR</td>\n",
       "      <td>D</td>\n",
       "      <td>2021-01-11</td>\n",
       "      <td>0</td>\n",
       "      <td>0.038740</td>\n",
       "      <td>0.040050</td>\n",
       "      <td>0.038410</td>\n",
       "      <td>0.039890</td>\n",
       "      <td>6.029335e+10</td>\n",
       "      <td>0.024104</td>\n",
       "      <td>2</td>\n",
       "      <td>2021</td>\n",
       "      <td>2 2021</td>\n",
       "    </tr>\n",
       "    <tr>\n",
       "      <th>...</th>\n",
       "      <td>...</td>\n",
       "      <td>...</td>\n",
       "      <td>...</td>\n",
       "      <td>...</td>\n",
       "      <td>...</td>\n",
       "      <td>...</td>\n",
       "      <td>...</td>\n",
       "      <td>...</td>\n",
       "      <td>...</td>\n",
       "      <td>...</td>\n",
       "      <td>...</td>\n",
       "      <td>...</td>\n",
       "      <td>...</td>\n",
       "    </tr>\n",
       "    <tr>\n",
       "      <th>584</th>\n",
       "      <td>VTBR</td>\n",
       "      <td>D</td>\n",
       "      <td>2023-05-22</td>\n",
       "      <td>0</td>\n",
       "      <td>0.023395</td>\n",
       "      <td>0.023480</td>\n",
       "      <td>0.022610</td>\n",
       "      <td>0.022885</td>\n",
       "      <td>1.709647e+11</td>\n",
       "      <td>-0.010649</td>\n",
       "      <td>21</td>\n",
       "      <td>2023</td>\n",
       "      <td>21 2023</td>\n",
       "    </tr>\n",
       "    <tr>\n",
       "      <th>585</th>\n",
       "      <td>VTBR</td>\n",
       "      <td>D</td>\n",
       "      <td>2023-05-23</td>\n",
       "      <td>0</td>\n",
       "      <td>0.023125</td>\n",
       "      <td>0.023800</td>\n",
       "      <td>0.022800</td>\n",
       "      <td>0.023660</td>\n",
       "      <td>3.022388e+11</td>\n",
       "      <td>0.033304</td>\n",
       "      <td>21</td>\n",
       "      <td>2023</td>\n",
       "      <td>21 2023</td>\n",
       "    </tr>\n",
       "    <tr>\n",
       "      <th>586</th>\n",
       "      <td>VTBR</td>\n",
       "      <td>D</td>\n",
       "      <td>2023-05-24</td>\n",
       "      <td>0</td>\n",
       "      <td>0.023775</td>\n",
       "      <td>0.024070</td>\n",
       "      <td>0.023290</td>\n",
       "      <td>0.023625</td>\n",
       "      <td>2.914003e+11</td>\n",
       "      <td>-0.001480</td>\n",
       "      <td>21</td>\n",
       "      <td>2023</td>\n",
       "      <td>21 2023</td>\n",
       "    </tr>\n",
       "    <tr>\n",
       "      <th>587</th>\n",
       "      <td>VTBR</td>\n",
       "      <td>D</td>\n",
       "      <td>2023-05-25</td>\n",
       "      <td>0</td>\n",
       "      <td>0.023600</td>\n",
       "      <td>0.023750</td>\n",
       "      <td>0.022880</td>\n",
       "      <td>0.023220</td>\n",
       "      <td>2.546966e+11</td>\n",
       "      <td>-0.017291</td>\n",
       "      <td>21</td>\n",
       "      <td>2023</td>\n",
       "      <td>21 2023</td>\n",
       "    </tr>\n",
       "    <tr>\n",
       "      <th>588</th>\n",
       "      <td>VTBR</td>\n",
       "      <td>D</td>\n",
       "      <td>2023-05-26</td>\n",
       "      <td>0</td>\n",
       "      <td>0.023140</td>\n",
       "      <td>0.023640</td>\n",
       "      <td>0.022880</td>\n",
       "      <td>0.023250</td>\n",
       "      <td>2.216842e+11</td>\n",
       "      <td>0.001291</td>\n",
       "      <td>21</td>\n",
       "      <td>2023</td>\n",
       "      <td>21 2023</td>\n",
       "    </tr>\n",
       "  </tbody>\n",
       "</table>\n",
       "<p>589 rows × 13 columns</p>\n",
       "</div>"
      ],
      "text/plain": [
       "    Ticker Per       Date  Time      Open      High       Low     Price  \\\n",
       "0     VTBR   D 2021-01-04     0  0.038025  0.038520  0.037800  0.037925   \n",
       "1     VTBR   D 2021-01-05     0  0.037935  0.038600  0.037855  0.038445   \n",
       "2     VTBR   D 2021-01-06     0  0.038525  0.038595  0.038050  0.038235   \n",
       "3     VTBR   D 2021-01-08     0  0.038520  0.039095  0.038445  0.038940   \n",
       "4     VTBR   D 2021-01-11     0  0.038740  0.040050  0.038410  0.039890   \n",
       "..     ...  ..        ...   ...       ...       ...       ...       ...   \n",
       "584   VTBR   D 2023-05-22     0  0.023395  0.023480  0.022610  0.022885   \n",
       "585   VTBR   D 2023-05-23     0  0.023125  0.023800  0.022800  0.023660   \n",
       "586   VTBR   D 2023-05-24     0  0.023775  0.024070  0.023290  0.023625   \n",
       "587   VTBR   D 2023-05-25     0  0.023600  0.023750  0.022880  0.023220   \n",
       "588   VTBR   D 2023-05-26     0  0.023140  0.023640  0.022880  0.023250   \n",
       "\n",
       "           Volume   Returns  Week  Year Week_Year  \n",
       "0    2.382604e+10       NaN     1  2021    1 2021  \n",
       "1    2.878259e+10  0.013618     1  2021    1 2021  \n",
       "2    2.542839e+10 -0.005477     1  2021    1 2021  \n",
       "3    3.950475e+10  0.018271     1  2021    1 2021  \n",
       "4    6.029335e+10  0.024104     2  2021    2 2021  \n",
       "..            ...       ...   ...   ...       ...  \n",
       "584  1.709647e+11 -0.010649    21  2023   21 2023  \n",
       "585  3.022388e+11  0.033304    21  2023   21 2023  \n",
       "586  2.914003e+11 -0.001480    21  2023   21 2023  \n",
       "587  2.546966e+11 -0.017291    21  2023   21 2023  \n",
       "588  2.216842e+11  0.001291    21  2023   21 2023  \n",
       "\n",
       "[589 rows x 13 columns]"
      ]
     },
     "execution_count": 22,
     "metadata": {},
     "output_type": "execute_result"
    }
   ],
   "source": [
    "data[\"Week_Year\"] = 1\n",
    "for i in range(0,589):\n",
    "    data[\"Week_Year\"][i] = str(data.Week[i])+\" \"+str(data.Year[i])\n",
    "data"
   ]
  },
  {
   "cell_type": "code",
   "execution_count": 23,
   "metadata": {},
   "outputs": [],
   "source": [
    "df = pd.DataFrame(data[\"Week_Year\"].unique()).reset_index()\n",
    "df.columns = [\"week#\", \"Week_Year\"]\n",
    "data = pd.merge(data, df, on=[\"Week_Year\"])"
   ]
  },
  {
   "cell_type": "code",
   "execution_count": 48,
   "metadata": {},
   "outputs": [
    {
     "data": {
      "text/html": [
       "<div>\n",
       "<style scoped>\n",
       "    .dataframe tbody tr th:only-of-type {\n",
       "        vertical-align: middle;\n",
       "    }\n",
       "\n",
       "    .dataframe tbody tr th {\n",
       "        vertical-align: top;\n",
       "    }\n",
       "\n",
       "    .dataframe thead th {\n",
       "        text-align: right;\n",
       "    }\n",
       "</style>\n",
       "<table border=\"1\" class=\"dataframe\">\n",
       "  <thead>\n",
       "    <tr style=\"text-align: right;\">\n",
       "      <th></th>\n",
       "      <th>Volatility</th>\n",
       "      <th>Week</th>\n",
       "    </tr>\n",
       "    <tr>\n",
       "      <th>week#</th>\n",
       "      <th></th>\n",
       "      <th></th>\n",
       "    </tr>\n",
       "  </thead>\n",
       "  <tbody>\n",
       "    <tr>\n",
       "      <th>0</th>\n",
       "      <td>0.028140</td>\n",
       "      <td>0</td>\n",
       "    </tr>\n",
       "    <tr>\n",
       "      <th>1</th>\n",
       "      <td>0.031191</td>\n",
       "      <td>1</td>\n",
       "    </tr>\n",
       "    <tr>\n",
       "      <th>2</th>\n",
       "      <td>0.022268</td>\n",
       "      <td>2</td>\n",
       "    </tr>\n",
       "    <tr>\n",
       "      <th>3</th>\n",
       "      <td>0.024178</td>\n",
       "      <td>3</td>\n",
       "    </tr>\n",
       "    <tr>\n",
       "      <th>4</th>\n",
       "      <td>0.012873</td>\n",
       "      <td>4</td>\n",
       "    </tr>\n",
       "    <tr>\n",
       "      <th>...</th>\n",
       "      <td>...</td>\n",
       "      <td>...</td>\n",
       "    </tr>\n",
       "    <tr>\n",
       "      <th>117</th>\n",
       "      <td>0.095080</td>\n",
       "      <td>117</td>\n",
       "    </tr>\n",
       "    <tr>\n",
       "      <th>118</th>\n",
       "      <td>0.048854</td>\n",
       "      <td>118</td>\n",
       "    </tr>\n",
       "    <tr>\n",
       "      <th>119</th>\n",
       "      <td>0.089713</td>\n",
       "      <td>119</td>\n",
       "    </tr>\n",
       "    <tr>\n",
       "      <th>120</th>\n",
       "      <td>0.055658</td>\n",
       "      <td>120</td>\n",
       "    </tr>\n",
       "    <tr>\n",
       "      <th>121</th>\n",
       "      <td>0.043590</td>\n",
       "      <td>121</td>\n",
       "    </tr>\n",
       "  </tbody>\n",
       "</table>\n",
       "<p>122 rows × 2 columns</p>\n",
       "</div>"
      ],
      "text/plain": [
       "       Volatility  Week\n",
       "week#                  \n",
       "0        0.028140     0\n",
       "1        0.031191     1\n",
       "2        0.022268     2\n",
       "3        0.024178     3\n",
       "4        0.012873     4\n",
       "...           ...   ...\n",
       "117      0.095080   117\n",
       "118      0.048854   118\n",
       "119      0.089713   119\n",
       "120      0.055658   120\n",
       "121      0.043590   121\n",
       "\n",
       "[122 rows x 2 columns]"
      ]
     },
     "execution_count": 48,
     "metadata": {},
     "output_type": "execute_result"
    }
   ],
   "source": [
    "df1 = pd.DataFrame(data.groupby(['week#'])['Returns'].std()*np.sqrt(5))\n",
    "# df1 = df1.reset_index()\n",
    "df1['Week'] = df1.index\n",
    "df1.columns=['Volatility', \"Week\"]\n",
    "df1"
   ]
  },
  {
   "cell_type": "code",
   "execution_count": 25,
   "metadata": {},
   "outputs": [
    {
     "data": {
      "text/html": [
       "<div>\n",
       "<style scoped>\n",
       "    .dataframe tbody tr th:only-of-type {\n",
       "        vertical-align: middle;\n",
       "    }\n",
       "\n",
       "    .dataframe tbody tr th {\n",
       "        vertical-align: top;\n",
       "    }\n",
       "\n",
       "    .dataframe thead th {\n",
       "        text-align: right;\n",
       "    }\n",
       "</style>\n",
       "<table border=\"1\" class=\"dataframe\">\n",
       "  <thead>\n",
       "    <tr style=\"text-align: right;\">\n",
       "      <th></th>\n",
       "      <th>Volume</th>\n",
       "      <th>Week</th>\n",
       "    </tr>\n",
       "    <tr>\n",
       "      <th>week#</th>\n",
       "      <th></th>\n",
       "      <th></th>\n",
       "    </tr>\n",
       "  </thead>\n",
       "  <tbody>\n",
       "    <tr>\n",
       "      <th>0</th>\n",
       "      <td>1.175418e+11</td>\n",
       "      <td>0</td>\n",
       "    </tr>\n",
       "    <tr>\n",
       "      <th>1</th>\n",
       "      <td>2.576104e+11</td>\n",
       "      <td>1</td>\n",
       "    </tr>\n",
       "    <tr>\n",
       "      <th>2</th>\n",
       "      <td>1.689311e+11</td>\n",
       "      <td>2</td>\n",
       "    </tr>\n",
       "    <tr>\n",
       "      <th>3</th>\n",
       "      <td>1.252083e+11</td>\n",
       "      <td>3</td>\n",
       "    </tr>\n",
       "    <tr>\n",
       "      <th>4</th>\n",
       "      <td>1.195452e+11</td>\n",
       "      <td>4</td>\n",
       "    </tr>\n",
       "    <tr>\n",
       "      <th>...</th>\n",
       "      <td>...</td>\n",
       "      <td>...</td>\n",
       "    </tr>\n",
       "    <tr>\n",
       "      <th>117</th>\n",
       "      <td>1.799565e+12</td>\n",
       "      <td>117</td>\n",
       "    </tr>\n",
       "    <tr>\n",
       "      <th>118</th>\n",
       "      <td>1.099566e+12</td>\n",
       "      <td>118</td>\n",
       "    </tr>\n",
       "    <tr>\n",
       "      <th>119</th>\n",
       "      <td>8.343575e+11</td>\n",
       "      <td>119</td>\n",
       "    </tr>\n",
       "    <tr>\n",
       "      <th>120</th>\n",
       "      <td>1.431519e+12</td>\n",
       "      <td>120</td>\n",
       "    </tr>\n",
       "    <tr>\n",
       "      <th>121</th>\n",
       "      <td>1.240985e+12</td>\n",
       "      <td>121</td>\n",
       "    </tr>\n",
       "  </tbody>\n",
       "</table>\n",
       "<p>122 rows × 2 columns</p>\n",
       "</div>"
      ],
      "text/plain": [
       "             Volume  Week\n",
       "week#                    \n",
       "0      1.175418e+11     0\n",
       "1      2.576104e+11     1\n",
       "2      1.689311e+11     2\n",
       "3      1.252083e+11     3\n",
       "4      1.195452e+11     4\n",
       "...             ...   ...\n",
       "117    1.799565e+12   117\n",
       "118    1.099566e+12   118\n",
       "119    8.343575e+11   119\n",
       "120    1.431519e+12   120\n",
       "121    1.240985e+12   121\n",
       "\n",
       "[122 rows x 2 columns]"
      ]
     },
     "execution_count": 25,
     "metadata": {},
     "output_type": "execute_result"
    }
   ],
   "source": [
    "df2 = data.groupby(['week#'])['Volume'].sum()\n",
    "df2 = pd.DataFrame(df2)\n",
    "# df2 = df2.reset_index()\n",
    "df2['Week'] = df2.index\n",
    "df2"
   ]
  },
  {
   "cell_type": "code",
   "execution_count": 26,
   "metadata": {},
   "outputs": [
    {
     "data": {
      "text/plain": [
       "<AxesSubplot:xlabel='Returns', ylabel='Count'>"
      ]
     },
     "execution_count": 26,
     "metadata": {},
     "output_type": "execute_result"
    },
    {
     "data": {
      "image/png": "[encoded data removed]",
      "text/plain": [
       "<Figure size 432x288 with 1 Axes>"
      ]
     },
     "metadata": {
      "needs_background": "light"
     },
     "output_type": "display_data"
    }
   ],
   "source": [
    "sns.histplot(data=data, x=\"Returns\")"
   ]
  },
  {
   "cell_type": "code",
   "execution_count": 27,
   "metadata": {},
   "outputs": [
    {
     "data": {
      "image/png": "[encoded data removed]",
      "text/plain": [
       "<Figure size 1440x720 with 1 Axes>"
      ]
     },
     "metadata": {
      "needs_background": "light"
     },
     "output_type": "display_data"
    }
   ],
   "source": [
    "df1.plot.bar(x=\"Week\", y=\"Returns\", color='red', legend=False, figsize=(20, 10), rot=30)\n",
    "ax = plt.axes()\n",
    "ax.set_facecolor(\"white\")\n",
    "plt.grid(color=\"lightgrey\")\n",
    "plt.show()"
   ]
  },
  {
   "cell_type": "code",
   "execution_count": 46,
   "metadata": {},
   "outputs": [
    {
     "data": {
      "image/png": "[encoded data removed]",
      "text/plain": [
       "<Figure size 1440x720 with 1 Axes>"
      ]
     },
     "metadata": {
      "needs_background": "light"
     },
     "output_type": "display_data"
    }
   ],
   "source": [
    "df2.plot.bar(x=\"Week\", y=\"Volume\", color=\"peachpuff\", legend=False, figsize=(20, 10), rot=30)\n",
    "ax = plt.axes()\n",
    "ax.set_facecolor(\"white\")\n",
    "plt.grid(color=\"lightgrey\")\n",
    "plt.show()\n"
   ]
  },
  {
   "cell_type": "code",
   "execution_count": 50,
   "metadata": {},
   "outputs": [
    {
     "data": {
      "image/png": "[encoded data removed]",
      "text/plain": [
       "<Figure size 1440x720 with 2 Axes>"
      ]
     },
     "metadata": {
      "needs_background": "light"
     },
     "output_type": "display_data"
    }
   ],
   "source": [
    "fig = plt.figure(figsize=(20, 10)) # Create matplotlib figure\n",
    "\n",
    "ax = fig.add_subplot(111) # Create matplotlib axes\n",
    "ax2 = ax.twinx() # Create another axes that shares the same x-axis as ax.\n",
    "\n",
    "width = 0.4\n",
    "\n",
    "df1.Volatility.plot(kind='bar', color='red', ax=ax, width=width, position=1, legend=True)\n",
    "df2.Volume.plot(kind='bar', color='green', ax=ax2, width=width, position=0, legend=True)\n",
    "plt.legend(loc='upper left')\n",
    "\n",
    "ax.set_ylabel('Weekly volatility')\n",
    "ax2.set_ylabel('Volume')\n",
    "\n",
    "plt.show()"
   ]
  },
  {
   "cell_type": "markdown",
   "metadata": {},
   "source": [
    "# TEST"
   ]
  },
  {
   "cell_type": "code",
   "execution_count": 51,
   "metadata": {},
   "outputs": [
    {
     "data": {
      "text/html": [
       "<div>\n",
       "<style scoped>\n",
       "    .dataframe tbody tr th:only-of-type {\n",
       "        vertical-align: middle;\n",
       "    }\n",
       "\n",
       "    .dataframe tbody tr th {\n",
       "        vertical-align: top;\n",
       "    }\n",
       "\n",
       "    .dataframe thead th {\n",
       "        text-align: right;\n",
       "    }\n",
       "</style>\n",
       "<table border=\"1\" class=\"dataframe\">\n",
       "  <thead>\n",
       "    <tr style=\"text-align: right;\">\n",
       "      <th></th>\n",
       "      <th>Volatility</th>\n",
       "      <th>Week</th>\n",
       "    </tr>\n",
       "  </thead>\n",
       "  <tbody>\n",
       "    <tr>\n",
       "      <th>count</th>\n",
       "      <td>122.000000</td>\n",
       "      <td>122.000000</td>\n",
       "    </tr>\n",
       "    <tr>\n",
       "      <th>mean</th>\n",
       "      <td>0.050088</td>\n",
       "      <td>60.500000</td>\n",
       "    </tr>\n",
       "    <tr>\n",
       "      <th>std</th>\n",
       "      <td>0.059180</td>\n",
       "      <td>35.362409</td>\n",
       "    </tr>\n",
       "    <tr>\n",
       "      <th>min</th>\n",
       "      <td>0.007285</td>\n",
       "      <td>0.000000</td>\n",
       "    </tr>\n",
       "    <tr>\n",
       "      <th>25%</th>\n",
       "      <td>0.024502</td>\n",
       "      <td>30.250000</td>\n",
       "    </tr>\n",
       "    <tr>\n",
       "      <th>50%</th>\n",
       "      <td>0.035888</td>\n",
       "      <td>60.500000</td>\n",
       "    </tr>\n",
       "    <tr>\n",
       "      <th>75%</th>\n",
       "      <td>0.055790</td>\n",
       "      <td>90.750000</td>\n",
       "    </tr>\n",
       "    <tr>\n",
       "      <th>max</th>\n",
       "      <td>0.599185</td>\n",
       "      <td>121.000000</td>\n",
       "    </tr>\n",
       "  </tbody>\n",
       "</table>\n",
       "</div>"
      ],
      "text/plain": [
       "       Volatility        Week\n",
       "count  122.000000  122.000000\n",
       "mean     0.050088   60.500000\n",
       "std      0.059180   35.362409\n",
       "min      0.007285    0.000000\n",
       "25%      0.024502   30.250000\n",
       "50%      0.035888   60.500000\n",
       "75%      0.055790   90.750000\n",
       "max      0.599185  121.000000"
      ]
     },
     "execution_count": 51,
     "metadata": {},
     "output_type": "execute_result"
    }
   ],
   "source": [
    "df1.describe()"
   ]
  },
  {
   "cell_type": "code",
   "execution_count": 31,
   "metadata": {},
   "outputs": [
    {
     "data": {
      "text/html": [
       "<div>\n",
       "<style scoped>\n",
       "    .dataframe tbody tr th:only-of-type {\n",
       "        vertical-align: middle;\n",
       "    }\n",
       "\n",
       "    .dataframe tbody tr th {\n",
       "        vertical-align: top;\n",
       "    }\n",
       "\n",
       "    .dataframe thead th {\n",
       "        text-align: right;\n",
       "    }\n",
       "</style>\n",
       "<table border=\"1\" class=\"dataframe\">\n",
       "  <thead>\n",
       "    <tr style=\"text-align: right;\">\n",
       "      <th></th>\n",
       "      <th>Volume</th>\n",
       "      <th>Week</th>\n",
       "    </tr>\n",
       "  </thead>\n",
       "  <tbody>\n",
       "    <tr>\n",
       "      <th>count</th>\n",
       "      <td>1.220000e+02</td>\n",
       "      <td>122.000000</td>\n",
       "    </tr>\n",
       "    <tr>\n",
       "      <th>mean</th>\n",
       "      <td>3.363764e+11</td>\n",
       "      <td>60.500000</td>\n",
       "    </tr>\n",
       "    <tr>\n",
       "      <th>std</th>\n",
       "      <td>3.278677e+11</td>\n",
       "      <td>35.362409</td>\n",
       "    </tr>\n",
       "    <tr>\n",
       "      <th>min</th>\n",
       "      <td>6.560848e+10</td>\n",
       "      <td>0.000000</td>\n",
       "    </tr>\n",
       "    <tr>\n",
       "      <th>25%</th>\n",
       "      <td>1.392648e+11</td>\n",
       "      <td>30.250000</td>\n",
       "    </tr>\n",
       "    <tr>\n",
       "      <th>50%</th>\n",
       "      <td>2.506151e+11</td>\n",
       "      <td>60.500000</td>\n",
       "    </tr>\n",
       "    <tr>\n",
       "      <th>75%</th>\n",
       "      <td>3.502192e+11</td>\n",
       "      <td>90.750000</td>\n",
       "    </tr>\n",
       "    <tr>\n",
       "      <th>max</th>\n",
       "      <td>1.799565e+12</td>\n",
       "      <td>121.000000</td>\n",
       "    </tr>\n",
       "  </tbody>\n",
       "</table>\n",
       "</div>"
      ],
      "text/plain": [
       "             Volume        Week\n",
       "count  1.220000e+02  122.000000\n",
       "mean   3.363764e+11   60.500000\n",
       "std    3.278677e+11   35.362409\n",
       "min    6.560848e+10    0.000000\n",
       "25%    1.392648e+11   30.250000\n",
       "50%    2.506151e+11   60.500000\n",
       "75%    3.502192e+11   90.750000\n",
       "max    1.799565e+12  121.000000"
      ]
     },
     "execution_count": 31,
     "metadata": {},
     "output_type": "execute_result"
    }
   ],
   "source": [
    "df2.describe()"
   ]
  },
  {
   "cell_type": "code",
   "execution_count": 32,
   "metadata": {},
   "outputs": [
    {
     "data": {
      "text/html": [
       "<div>\n",
       "<style scoped>\n",
       "    .dataframe tbody tr th:only-of-type {\n",
       "        vertical-align: middle;\n",
       "    }\n",
       "\n",
       "    .dataframe tbody tr th {\n",
       "        vertical-align: top;\n",
       "    }\n",
       "\n",
       "    .dataframe thead th {\n",
       "        text-align: right;\n",
       "    }\n",
       "</style>\n",
       "<table border=\"1\" class=\"dataframe\">\n",
       "  <thead>\n",
       "    <tr style=\"text-align: right;\">\n",
       "      <th></th>\n",
       "      <th>Time</th>\n",
       "      <th>Open</th>\n",
       "      <th>High</th>\n",
       "      <th>Low</th>\n",
       "      <th>Price</th>\n",
       "      <th>Volume</th>\n",
       "      <th>Returns</th>\n",
       "      <th>Week</th>\n",
       "      <th>Year</th>\n",
       "      <th>week#</th>\n",
       "    </tr>\n",
       "  </thead>\n",
       "  <tbody>\n",
       "    <tr>\n",
       "      <th>count</th>\n",
       "      <td>589.0</td>\n",
       "      <td>589.000000</td>\n",
       "      <td>589.000000</td>\n",
       "      <td>589.000000</td>\n",
       "      <td>589.000000</td>\n",
       "      <td>5.890000e+02</td>\n",
       "      <td>588.000000</td>\n",
       "      <td>589.000000</td>\n",
       "      <td>589.000000</td>\n",
       "      <td>589.000000</td>\n",
       "    </tr>\n",
       "    <tr>\n",
       "      <th>mean</th>\n",
       "      <td>0.0</td>\n",
       "      <td>0.032229</td>\n",
       "      <td>0.032705</td>\n",
       "      <td>0.031634</td>\n",
       "      <td>0.032175</td>\n",
       "      <td>6.967390e+10</td>\n",
       "      <td>-0.000832</td>\n",
       "      <td>24.475382</td>\n",
       "      <td>2021.736842</td>\n",
       "      <td>60.283531</td>\n",
       "    </tr>\n",
       "    <tr>\n",
       "      <th>std</th>\n",
       "      <td>0.0</td>\n",
       "      <td>0.014822</td>\n",
       "      <td>0.014986</td>\n",
       "      <td>0.014607</td>\n",
       "      <td>0.014816</td>\n",
       "      <td>8.282766e+10</td>\n",
       "      <td>0.034196</td>\n",
       "      <td>15.107263</td>\n",
       "      <td>0.731007</td>\n",
       "      <td>35.321932</td>\n",
       "    </tr>\n",
       "    <tr>\n",
       "      <th>min</th>\n",
       "      <td>0.0</td>\n",
       "      <td>0.014025</td>\n",
       "      <td>0.015060</td>\n",
       "      <td>0.013880</td>\n",
       "      <td>0.014425</td>\n",
       "      <td>3.098040e+09</td>\n",
       "      <td>-0.531944</td>\n",
       "      <td>1.000000</td>\n",
       "      <td>2021.000000</td>\n",
       "      <td>0.000000</td>\n",
       "    </tr>\n",
       "    <tr>\n",
       "      <th>25%</th>\n",
       "      <td>0.0</td>\n",
       "      <td>0.017920</td>\n",
       "      <td>0.018200</td>\n",
       "      <td>0.017680</td>\n",
       "      <td>0.017935</td>\n",
       "      <td>2.787958e+10</td>\n",
       "      <td>-0.011485</td>\n",
       "      <td>12.000000</td>\n",
       "      <td>2021.000000</td>\n",
       "      <td>30.000000</td>\n",
       "    </tr>\n",
       "    <tr>\n",
       "      <th>50%</th>\n",
       "      <td>0.0</td>\n",
       "      <td>0.023600</td>\n",
       "      <td>0.024145</td>\n",
       "      <td>0.022810</td>\n",
       "      <td>0.023345</td>\n",
       "      <td>4.586541e+10</td>\n",
       "      <td>0.000000</td>\n",
       "      <td>23.000000</td>\n",
       "      <td>2022.000000</td>\n",
       "      <td>60.000000</td>\n",
       "    </tr>\n",
       "    <tr>\n",
       "      <th>75%</th>\n",
       "      <td>0.0</td>\n",
       "      <td>0.047990</td>\n",
       "      <td>0.048580</td>\n",
       "      <td>0.047050</td>\n",
       "      <td>0.048000</td>\n",
       "      <td>7.237181e+10</td>\n",
       "      <td>0.010380</td>\n",
       "      <td>37.000000</td>\n",
       "      <td>2022.000000</td>\n",
       "      <td>91.000000</td>\n",
       "    </tr>\n",
       "    <tr>\n",
       "      <th>max</th>\n",
       "      <td>0.0</td>\n",
       "      <td>0.057250</td>\n",
       "      <td>0.057500</td>\n",
       "      <td>0.056245</td>\n",
       "      <td>0.057400</td>\n",
       "      <td>7.029108e+11</td>\n",
       "      <td>0.143392</td>\n",
       "      <td>52.000000</td>\n",
       "      <td>2023.000000</td>\n",
       "      <td>121.000000</td>\n",
       "    </tr>\n",
       "  </tbody>\n",
       "</table>\n",
       "</div>"
      ],
      "text/plain": [
       "        Time        Open        High         Low       Price        Volume  \\\n",
       "count  589.0  589.000000  589.000000  589.000000  589.000000  5.890000e+02   \n",
       "mean     0.0    0.032229    0.032705    0.031634    0.032175  6.967390e+10   \n",
       "std      0.0    0.014822    0.014986    0.014607    0.014816  8.282766e+10   \n",
       "min      0.0    0.014025    0.015060    0.013880    0.014425  3.098040e+09   \n",
       "25%      0.0    0.017920    0.018200    0.017680    0.017935  2.787958e+10   \n",
       "50%      0.0    0.023600    0.024145    0.022810    0.023345  4.586541e+10   \n",
       "75%      0.0    0.047990    0.048580    0.047050    0.048000  7.237181e+10   \n",
       "max      0.0    0.057250    0.057500    0.056245    0.057400  7.029108e+11   \n",
       "\n",
       "          Returns        Week         Year       week#  \n",
       "count  588.000000  589.000000   589.000000  589.000000  \n",
       "mean    -0.000832   24.475382  2021.736842   60.283531  \n",
       "std      0.034196   15.107263     0.731007   35.321932  \n",
       "min     -0.531944    1.000000  2021.000000    0.000000  \n",
       "25%     -0.011485   12.000000  2021.000000   30.000000  \n",
       "50%      0.000000   23.000000  2022.000000   60.000000  \n",
       "75%      0.010380   37.000000  2022.000000   91.000000  \n",
       "max      0.143392   52.000000  2023.000000  121.000000  "
      ]
     },
     "execution_count": 32,
     "metadata": {},
     "output_type": "execute_result"
    }
   ],
   "source": [
    "data.describe()"
   ]
  },
  {
   "cell_type": "code",
   "execution_count": 33,
   "metadata": {},
   "outputs": [
    {
     "data": {
      "text/plain": [
       "-6.428828876152775"
      ]
     },
     "execution_count": 33,
     "metadata": {},
     "output_type": "execute_result"
    }
   ],
   "source": [
    "data[\"Returns\"].skew()"
   ]
  },
  {
   "cell_type": "code",
   "execution_count": 34,
   "metadata": {},
   "outputs": [
    {
     "data": {
      "text/plain": [
       "101.64172684541491"
      ]
     },
     "execution_count": 34,
     "metadata": {},
     "output_type": "execute_result"
    }
   ],
   "source": [
    "data[\"Returns\"].kurtosis()"
   ]
  },
  {
   "cell_type": "code",
   "execution_count": null,
   "metadata": {},
   "outputs": [],
   "source": []
  },
  {
   "cell_type": "code",
   "execution_count": 35,
   "metadata": {},
   "outputs": [
    {
     "data": {
      "text/plain": [
       "{'Jarque-Bera': 252813.7164343237,\n",
       " 'P-value': 0.0,\n",
       " 'Skew': -6.412417167267833,\n",
       " 'Kurtosis': 103.76929505406238}"
      ]
     },
     "execution_count": 35,
     "metadata": {},
     "output_type": "execute_result"
    }
   ],
   "source": [
    "ret = list(data[\"Returns\"].dropna())\n",
    "\n",
    "name = ['Jarque-Bera', 'P-value', 'Skew', 'Kurtosis']\n",
    "test = statsmodels.stats.stattools.jarque_bera(ret)\n",
    "dict(zip(name, test))"
   ]
  },
  {
   "cell_type": "code",
   "execution_count": 36,
   "metadata": {},
   "outputs": [
    {
     "name": "stdout",
     "output_type": "stream",
     "text": [
      "Statistics=0.640, p=0.000\n",
      "Sample does not look Gaussian (reject H0)\n"
     ]
    }
   ],
   "source": [
    "# Shapiro normality test\n",
    "stat, p = shapiro(ret)\n",
    "print('Statistics=%.3f, p=%.3f' % (stat, p))\n",
    "# interpret\n",
    "alpha = 0.05\n",
    "if p > alpha:\n",
    "    print('Sample looks Gaussian (fail to reject H0)')\n",
    "else:\n",
    "    print('Sample does not look Gaussian (reject H0)')\n",
    "    "
   ]
  },
  {
   "cell_type": "code",
   "execution_count": 37,
   "metadata": {},
   "outputs": [
    {
     "name": "stdout",
     "output_type": "stream",
     "text": [
      "Parameters from t.fit:  (2.2213992804799556, -9.577289985473442e-05, 0.01393038698213338) \n",
      "\n",
      "Parameters from norm.fit:  (-0.0008321520292537935, 0.034166813861123885) \n",
      "\n"
     ]
    }
   ],
   "source": [
    "from scipy.stats import norm,t\n",
    "t.fit(np.array(ret))\n",
    "print(\"Parameters from t.fit: \", t.fit(np.array(ret)), \"\\n\") # degrees of freedom, mean, st dev\n",
    "norm.fit(np.array(ret))\n",
    "print(\"Parameters from norm.fit: \", norm.fit(np.array(ret)), \"\\n\")"
   ]
  },
  {
   "cell_type": "code",
   "execution_count": 38,
   "metadata": {},
   "outputs": [
    {
     "data": {
      "text/plain": [
       "[<matplotlib.lines.Line2D at 0x1c835b0c0d0>]"
      ]
     },
     "execution_count": 38,
     "metadata": {},
     "output_type": "execute_result"
    },
    {
     "data": {
      "image/png": "[encoded data removed]",
      "text/plain": [
       "<Figure size 432x288 with 1 Axes>"
      ]
     },
     "metadata": {
      "needs_background": "light"
     },
     "output_type": "display_data"
    }
   ],
   "source": [
    "from scipy.stats import norm,t\n",
    "x=np.linspace(-1, 1, 200)\n",
    "y=t.pdf(x, 2.2213992804799556, loc=-9.577289985473442e-05, scale=0.01393038698213338)\n",
    "plt.plot(x,y)"
   ]
  },
  {
   "cell_type": "code",
   "execution_count": 39,
   "metadata": {},
   "outputs": [
    {
     "data": {
      "text/plain": [
       "[<matplotlib.lines.Line2D at 0x1c835f39c10>]"
      ]
     },
     "execution_count": 39,
     "metadata": {},
     "output_type": "execute_result"
    },
    {
     "data": {
      "image/png": "[encoded data removed]",
      "text/plain": [
       "<Figure size 432x288 with 1 Axes>"
      ]
     },
     "metadata": {
      "needs_background": "light"
     },
     "output_type": "display_data"
    }
   ],
   "source": [
    "x=np.linspace(-1, 1, 200)\n",
    "y=norm.pdf(x, loc=-0.0008321520292537935, scale=0.034166813861123885)\n",
    "plt.plot(x,y)"
   ]
  },
  {
   "cell_type": "code",
   "execution_count": 40,
   "metadata": {},
   "outputs": [
    {
     "data": {
      "text/plain": [
       "(array([ 0.        ,  0.        ,  0.        ,  0.        ,  0.        ,\n",
       "         0.        ,  0.        ,  0.        ,  0.        ,  0.        ,\n",
       "         0.        ,  0.        ,  0.        ,  0.        ,  0.        ,\n",
       "         0.        ,  0.        ,  0.        ,  0.        ,  0.        ,\n",
       "         0.        ,  0.        ,  0.        ,  0.08503401,  0.        ,\n",
       "         0.        ,  0.        ,  0.        ,  0.        ,  0.        ,\n",
       "         0.        ,  0.        ,  0.        ,  0.        ,  0.        ,\n",
       "         0.        ,  0.        ,  0.        ,  0.        ,  0.08503401,\n",
       "         0.        ,  0.        ,  0.        ,  0.        ,  0.08503401,\n",
       "         0.17006803,  0.51020408,  1.53061224,  4.16666667, 18.19727891,\n",
       "        17.60204082,  5.6122449 ,  1.10544218,  0.42517007,  0.08503401,\n",
       "         0.08503401,  0.17006803,  0.08503401,  0.        ,  0.        ,\n",
       "         0.        ,  0.        ,  0.        ,  0.        ,  0.        ,\n",
       "         0.        ,  0.        ,  0.        ,  0.        ,  0.        ,\n",
       "         0.        ,  0.        ,  0.        ,  0.        ,  0.        ,\n",
       "         0.        ,  0.        ,  0.        ,  0.        ,  0.        ,\n",
       "         0.        ,  0.        ,  0.        ,  0.        ,  0.        ,\n",
       "         0.        ,  0.        ,  0.        ,  0.        ,  0.        ,\n",
       "         0.        ,  0.        ,  0.        ,  0.        ,  0.        ,\n",
       "         0.        ,  0.        ,  0.        ,  0.        ,  0.        ]),\n",
       " array([-1.  , -0.98, -0.96, -0.94, -0.92, -0.9 , -0.88, -0.86, -0.84,\n",
       "        -0.82, -0.8 , -0.78, -0.76, -0.74, -0.72, -0.7 , -0.68, -0.66,\n",
       "        -0.64, -0.62, -0.6 , -0.58, -0.56, -0.54, -0.52, -0.5 , -0.48,\n",
       "        -0.46, -0.44, -0.42, -0.4 , -0.38, -0.36, -0.34, -0.32, -0.3 ,\n",
       "        -0.28, -0.26, -0.24, -0.22, -0.2 , -0.18, -0.16, -0.14, -0.12,\n",
       "        -0.1 , -0.08, -0.06, -0.04, -0.02,  0.  ,  0.02,  0.04,  0.06,\n",
       "         0.08,  0.1 ,  0.12,  0.14,  0.16,  0.18,  0.2 ,  0.22,  0.24,\n",
       "         0.26,  0.28,  0.3 ,  0.32,  0.34,  0.36,  0.38,  0.4 ,  0.42,\n",
       "         0.44,  0.46,  0.48,  0.5 ,  0.52,  0.54,  0.56,  0.58,  0.6 ,\n",
       "         0.62,  0.64,  0.66,  0.68,  0.7 ,  0.72,  0.74,  0.76,  0.78,\n",
       "         0.8 ,  0.82,  0.84,  0.86,  0.88,  0.9 ,  0.92,  0.94,  0.96,\n",
       "         0.98,  1.  ]),\n",
       " <BarContainer object of 100 artists>)"
      ]
     },
     "execution_count": 40,
     "metadata": {},
     "output_type": "execute_result"
    },
    {
     "data": {
      "image/png": "[encoded data removed]",
      "text/plain": [
       "<Figure size 432x288 with 1 Axes>"
      ]
     },
     "metadata": {
      "needs_background": "light"
     },
     "output_type": "display_data"
    }
   ],
   "source": [
    "plt.hist(ret, bins=100, range=(-1, 1), density=True)"
   ]
  },
  {
   "cell_type": "code",
   "execution_count": 41,
   "metadata": {},
   "outputs": [
    {
     "data": {
      "image/png": "[encoded data removed]",
      "text/plain": [
       "<Figure size 432x288 with 1 Axes>"
      ]
     },
     "metadata": {
      "needs_background": "light"
     },
     "output_type": "display_data"
    }
   ],
   "source": [
    "x_min = -0.2\n",
    "x_max = 0.2\n",
    "x_t=np.linspace(x_min, x_max, 200)\n",
    "y_t=t.pdf(x_t, 2.2213992804799556, loc=-9.577289985473442e-05, scale=0.01393038698213338)\n",
    "x_n=np.linspace(x_min, x_max, 200)\n",
    "y_n=norm.pdf(x_n, loc=-0.0008321520292537935, scale=0.034166813861123885)\n",
    "plt.plot(x_t,y_t,c='red')\n",
    "plt.plot(x_n,y_n,c='yellow')\n",
    "plt.hist(ret, bins=100, range=(x_min, x_max), density=True, color=\"peachpuff\") #\"thistle\"\n",
    "ax = plt.axes()\n",
    "ax.set_facecolor(\"white\")\n",
    "plt.grid(color=\"lightgrey\")\n",
    "plt.show()"
   ]
  },
  {
   "cell_type": "code",
   "execution_count": 42,
   "metadata": {},
   "outputs": [
    {
     "data": {
      "image/png": "[encoded data removed]",
      "text/plain": [
       "<Figure size 432x288 with 1 Axes>"
      ]
     },
     "metadata": {
      "needs_background": "light"
     },
     "output_type": "display_data"
    }
   ],
   "source": [
    "x_min = -0.2\n",
    "x_max = 0.2\n",
    "plt.hist(ret, bins=100, range=(x_min, x_max), density=True, color=\"peachpuff\") #\"thistle\"\n",
    "ax = plt.axes()\n",
    "ax.set_facecolor(\"white\")\n",
    "plt.grid(color=\"lightgrey\")\n",
    "plt.show()"
   ]
  },
  {
   "cell_type": "code",
   "execution_count": 43,
   "metadata": {},
   "outputs": [
    {
     "data": {
      "image/png": "[encoded data removed]",
      "text/plain": [
       "<Figure size 432x288 with 1 Axes>"
      ]
     },
     "metadata": {
      "needs_background": "light"
     },
     "output_type": "display_data"
    }
   ],
   "source": [
    "x_min = -0.2\n",
    "x_max = 0.2\n",
    "plt.hist(data[\"Volume\"], bins=100, range=(x_min, x_max), density=True, color=\"peachpuff\") #\"thistle\"\n",
    "ax = plt.axes()\n",
    "ax.set_facecolor(\"white\")\n",
    "plt.grid(color=\"lightgrey\")\n",
    "plt.show()"
   ]
  },
  {
   "cell_type": "code",
   "execution_count": null,
   "metadata": {},
   "outputs": [],
   "source": []
  },
  {
   "cell_type": "code",
   "execution_count": null,
   "metadata": {},
   "outputs": [],
   "source": []
  },
  {
   "cell_type": "code",
   "execution_count": 37,
   "metadata": {},
   "outputs": [],
   "source": [
    "dt = pd.read_csv('VTBR_1day_2018.txt', sep=\",\", parse_dates=['<DATE>'])\n",
    "dt.columns = [\"Ticker\", \"Per\", \"Date\", \"Time\", \"Open\", \"High\", \"Low\", \"Price\", \"Volume\"]"
   ]
  },
  {
   "cell_type": "code",
   "execution_count": 38,
   "metadata": {},
   "outputs": [],
   "source": [
    "dt[\"Year\"] = 1\n",
    "for i in range(0,len(dt.Date)):\n",
    "    dt[\"Year\"][i] = dt[\"Date\"][i].isocalendar()[0]"
   ]
  },
  {
   "cell_type": "code",
   "execution_count": 39,
   "metadata": {},
   "outputs": [],
   "source": [
    "dt['Returns'] = np.log(dt['Price']) - np.log(dt['Price'].shift(1))"
   ]
  },
  {
   "cell_type": "code",
   "execution_count": 40,
   "metadata": {},
   "outputs": [
    {
     "data": {
      "text/plain": [
       "<AxesSubplot:xlabel='Returns', ylabel='Count'>"
      ]
     },
     "execution_count": 40,
     "metadata": {},
     "output_type": "execute_result"
    },
    {
     "data": {
      "image/png": "[encoded data removed]",
      "text/plain": [
       "<Figure size 432x288 with 1 Axes>"
      ]
     },
     "metadata": {
      "needs_background": "light"
     },
     "output_type": "display_data"
    }
   ],
   "source": [
    "sns.histplot(data=dt, x=\"Returns\")"
   ]
  },
  {
   "cell_type": "code",
   "execution_count": 41,
   "metadata": {},
   "outputs": [
    {
     "data": {
      "text/plain": [
       "<AxesSubplot:xlabel='Date', ylabel='Returns'>"
      ]
     },
     "execution_count": 41,
     "metadata": {},
     "output_type": "execute_result"
    },
    {
     "data": {
      "image/png": "[encoded data removed]",
      "text/plain": [
       "<Figure size 432x288 with 1 Axes>"
      ]
     },
     "metadata": {
      "needs_background": "light"
     },
     "output_type": "display_data"
    }
   ],
   "source": [
    "sns.lineplot(data=dt, y=\"Returns\", x=\"Date\")"
   ]
  },
  {
   "cell_type": "code",
   "execution_count": 42,
   "metadata": {},
   "outputs": [],
   "source": [
    "dt = dt.loc[756:]"
   ]
  },
  {
   "cell_type": "code",
   "execution_count": 43,
   "metadata": {},
   "outputs": [
    {
     "data": {
      "text/plain": [
       "<AxesSubplot:xlabel='Date', ylabel='Returns'>"
      ]
     },
     "execution_count": 43,
     "metadata": {},
     "output_type": "execute_result"
    },
    {
     "data": {
      "image/png": "[encoded data removed]",
      "text/plain": [
       "<Figure size 432x288 with 1 Axes>"
      ]
     },
     "metadata": {
      "needs_background": "light"
     },
     "output_type": "display_data"
    }
   ],
   "source": [
    "sns.lineplot(data=dt, y=\"Returns\", x=\"Date\")"
   ]
  },
  {
   "cell_type": "code",
   "execution_count": 44,
   "metadata": {},
   "outputs": [
    {
     "data": {
      "text/plain": [
       "<AxesSubplot:xlabel='Returns', ylabel='Count'>"
      ]
     },
     "execution_count": 44,
     "metadata": {},
     "output_type": "execute_result"
    },
    {
     "data": {
      "image/png": "[encoded data removed]",
      "text/plain": [
       "<Figure size 432x288 with 1 Axes>"
      ]
     },
     "metadata": {
      "needs_background": "light"
     },
     "output_type": "display_data"
    }
   ],
   "source": [
    "sns.histplot(data=dt, x=\"Returns\")"
   ]
  },
  {
   "cell_type": "code",
   "execution_count": 45,
   "metadata": {},
   "outputs": [
    {
     "data": {
      "text/html": [
       "<div>\n",
       "<style scoped>\n",
       "    .dataframe tbody tr th:only-of-type {\n",
       "        vertical-align: middle;\n",
       "    }\n",
       "\n",
       "    .dataframe tbody tr th {\n",
       "        vertical-align: top;\n",
       "    }\n",
       "\n",
       "    .dataframe thead th {\n",
       "        text-align: right;\n",
       "    }\n",
       "</style>\n",
       "<table border=\"1\" class=\"dataframe\">\n",
       "  <thead>\n",
       "    <tr style=\"text-align: right;\">\n",
       "      <th></th>\n",
       "      <th>index</th>\n",
       "      <th>Ticker</th>\n",
       "      <th>Per</th>\n",
       "      <th>Date</th>\n",
       "      <th>Time</th>\n",
       "      <th>Open</th>\n",
       "      <th>High</th>\n",
       "      <th>Low</th>\n",
       "      <th>Price</th>\n",
       "      <th>Volume</th>\n",
       "      <th>Year</th>\n",
       "      <th>Returns</th>\n",
       "    </tr>\n",
       "  </thead>\n",
       "  <tbody>\n",
       "    <tr>\n",
       "      <th>0</th>\n",
       "      <td>756</td>\n",
       "      <td>VTBR</td>\n",
       "      <td>D</td>\n",
       "      <td>2021-01-04</td>\n",
       "      <td>0</td>\n",
       "      <td>0.038025</td>\n",
       "      <td>0.038520</td>\n",
       "      <td>0.037800</td>\n",
       "      <td>0.037925</td>\n",
       "      <td>23826040000</td>\n",
       "      <td>2021</td>\n",
       "      <td>0.000791</td>\n",
       "    </tr>\n",
       "    <tr>\n",
       "      <th>1</th>\n",
       "      <td>757</td>\n",
       "      <td>VTBR</td>\n",
       "      <td>D</td>\n",
       "      <td>2021-01-05</td>\n",
       "      <td>1</td>\n",
       "      <td>0.037935</td>\n",
       "      <td>0.038600</td>\n",
       "      <td>0.037855</td>\n",
       "      <td>0.038445</td>\n",
       "      <td>28782590000</td>\n",
       "      <td>2021</td>\n",
       "      <td>0.013618</td>\n",
       "    </tr>\n",
       "    <tr>\n",
       "      <th>2</th>\n",
       "      <td>758</td>\n",
       "      <td>VTBR</td>\n",
       "      <td>D</td>\n",
       "      <td>2021-01-06</td>\n",
       "      <td>2</td>\n",
       "      <td>0.038525</td>\n",
       "      <td>0.038595</td>\n",
       "      <td>0.038050</td>\n",
       "      <td>0.038235</td>\n",
       "      <td>25428390000</td>\n",
       "      <td>2021</td>\n",
       "      <td>-0.005477</td>\n",
       "    </tr>\n",
       "    <tr>\n",
       "      <th>3</th>\n",
       "      <td>759</td>\n",
       "      <td>VTBR</td>\n",
       "      <td>D</td>\n",
       "      <td>2021-01-08</td>\n",
       "      <td>3</td>\n",
       "      <td>0.038520</td>\n",
       "      <td>0.039095</td>\n",
       "      <td>0.038445</td>\n",
       "      <td>0.038940</td>\n",
       "      <td>39504750000</td>\n",
       "      <td>2021</td>\n",
       "      <td>0.018271</td>\n",
       "    </tr>\n",
       "    <tr>\n",
       "      <th>4</th>\n",
       "      <td>760</td>\n",
       "      <td>VTBR</td>\n",
       "      <td>D</td>\n",
       "      <td>2021-01-11</td>\n",
       "      <td>4</td>\n",
       "      <td>0.038740</td>\n",
       "      <td>0.040050</td>\n",
       "      <td>0.038410</td>\n",
       "      <td>0.039890</td>\n",
       "      <td>60293350000</td>\n",
       "      <td>2021</td>\n",
       "      <td>0.024104</td>\n",
       "    </tr>\n",
       "    <tr>\n",
       "      <th>...</th>\n",
       "      <td>...</td>\n",
       "      <td>...</td>\n",
       "      <td>...</td>\n",
       "      <td>...</td>\n",
       "      <td>...</td>\n",
       "      <td>...</td>\n",
       "      <td>...</td>\n",
       "      <td>...</td>\n",
       "      <td>...</td>\n",
       "      <td>...</td>\n",
       "      <td>...</td>\n",
       "      <td>...</td>\n",
       "    </tr>\n",
       "    <tr>\n",
       "      <th>584</th>\n",
       "      <td>1340</td>\n",
       "      <td>VTBR</td>\n",
       "      <td>D</td>\n",
       "      <td>2023-05-22</td>\n",
       "      <td>584</td>\n",
       "      <td>0.023395</td>\n",
       "      <td>0.023480</td>\n",
       "      <td>0.022610</td>\n",
       "      <td>0.022885</td>\n",
       "      <td>170964670000</td>\n",
       "      <td>2023</td>\n",
       "      <td>-0.010649</td>\n",
       "    </tr>\n",
       "    <tr>\n",
       "      <th>585</th>\n",
       "      <td>1341</td>\n",
       "      <td>VTBR</td>\n",
       "      <td>D</td>\n",
       "      <td>2023-05-23</td>\n",
       "      <td>585</td>\n",
       "      <td>0.023125</td>\n",
       "      <td>0.023800</td>\n",
       "      <td>0.022800</td>\n",
       "      <td>0.023660</td>\n",
       "      <td>302238790000</td>\n",
       "      <td>2023</td>\n",
       "      <td>0.033304</td>\n",
       "    </tr>\n",
       "    <tr>\n",
       "      <th>586</th>\n",
       "      <td>1342</td>\n",
       "      <td>VTBR</td>\n",
       "      <td>D</td>\n",
       "      <td>2023-05-24</td>\n",
       "      <td>586</td>\n",
       "      <td>0.023775</td>\n",
       "      <td>0.024070</td>\n",
       "      <td>0.023290</td>\n",
       "      <td>0.023625</td>\n",
       "      <td>291400320000</td>\n",
       "      <td>2023</td>\n",
       "      <td>-0.001480</td>\n",
       "    </tr>\n",
       "    <tr>\n",
       "      <th>587</th>\n",
       "      <td>1343</td>\n",
       "      <td>VTBR</td>\n",
       "      <td>D</td>\n",
       "      <td>2023-05-25</td>\n",
       "      <td>587</td>\n",
       "      <td>0.023600</td>\n",
       "      <td>0.023750</td>\n",
       "      <td>0.022880</td>\n",
       "      <td>0.023220</td>\n",
       "      <td>254696600000</td>\n",
       "      <td>2023</td>\n",
       "      <td>-0.017291</td>\n",
       "    </tr>\n",
       "    <tr>\n",
       "      <th>588</th>\n",
       "      <td>1344</td>\n",
       "      <td>VTBR</td>\n",
       "      <td>D</td>\n",
       "      <td>2023-05-26</td>\n",
       "      <td>588</td>\n",
       "      <td>0.023140</td>\n",
       "      <td>0.023640</td>\n",
       "      <td>0.022880</td>\n",
       "      <td>0.023250</td>\n",
       "      <td>221684160000</td>\n",
       "      <td>2023</td>\n",
       "      <td>0.001291</td>\n",
       "    </tr>\n",
       "  </tbody>\n",
       "</table>\n",
       "<p>589 rows × 12 columns</p>\n",
       "</div>"
      ],
      "text/plain": [
       "     index Ticker Per       Date  Time      Open      High       Low  \\\n",
       "0      756   VTBR   D 2021-01-04     0  0.038025  0.038520  0.037800   \n",
       "1      757   VTBR   D 2021-01-05     1  0.037935  0.038600  0.037855   \n",
       "2      758   VTBR   D 2021-01-06     2  0.038525  0.038595  0.038050   \n",
       "3      759   VTBR   D 2021-01-08     3  0.038520  0.039095  0.038445   \n",
       "4      760   VTBR   D 2021-01-11     4  0.038740  0.040050  0.038410   \n",
       "..     ...    ...  ..        ...   ...       ...       ...       ...   \n",
       "584   1340   VTBR   D 2023-05-22   584  0.023395  0.023480  0.022610   \n",
       "585   1341   VTBR   D 2023-05-23   585  0.023125  0.023800  0.022800   \n",
       "586   1342   VTBR   D 2023-05-24   586  0.023775  0.024070  0.023290   \n",
       "587   1343   VTBR   D 2023-05-25   587  0.023600  0.023750  0.022880   \n",
       "588   1344   VTBR   D 2023-05-26   588  0.023140  0.023640  0.022880   \n",
       "\n",
       "        Price        Volume  Year   Returns  \n",
       "0    0.037925   23826040000  2021  0.000791  \n",
       "1    0.038445   28782590000  2021  0.013618  \n",
       "2    0.038235   25428390000  2021 -0.005477  \n",
       "3    0.038940   39504750000  2021  0.018271  \n",
       "4    0.039890   60293350000  2021  0.024104  \n",
       "..        ...           ...   ...       ...  \n",
       "584  0.022885  170964670000  2023 -0.010649  \n",
       "585  0.023660  302238790000  2023  0.033304  \n",
       "586  0.023625  291400320000  2023 -0.001480  \n",
       "587  0.023220  254696600000  2023 -0.017291  \n",
       "588  0.023250  221684160000  2023  0.001291  \n",
       "\n",
       "[589 rows x 12 columns]"
      ]
     },
     "execution_count": 45,
     "metadata": {},
     "output_type": "execute_result"
    }
   ],
   "source": [
    "dt = dt.reset_index()\n",
    "dt[\"Time\"] = dt.index\n",
    "dt"
   ]
  },
  {
   "cell_type": "code",
   "execution_count": null,
   "metadata": {},
   "outputs": [],
   "source": []
  },
  {
   "cell_type": "code",
   "execution_count": null,
   "metadata": {},
   "outputs": [],
   "source": []
  },
  {
   "cell_type": "code",
   "execution_count": null,
   "metadata": {},
   "outputs": [],
   "source": []
  },
  {
   "cell_type": "code",
   "execution_count": null,
   "metadata": {},
   "outputs": [],
   "source": []
  },
  {
   "cell_type": "code",
   "execution_count": null,
   "metadata": {},
   "outputs": [],
   "source": []
  },
  {
   "cell_type": "code",
   "execution_count": null,
   "metadata": {},
   "outputs": [],
   "source": []
  },
  {
   "cell_type": "code",
   "execution_count": null,
   "metadata": {},
   "outputs": [],
   "source": []
  },
  {
   "cell_type": "code",
   "execution_count": null,
   "metadata": {},
   "outputs": [],
   "source": []
  },
  {
   "cell_type": "code",
   "execution_count": null,
   "metadata": {},
   "outputs": [],
   "source": []
  },
  {
   "cell_type": "code",
   "execution_count": null,
   "metadata": {},
   "outputs": [],
   "source": []
  },
  {
   "cell_type": "code",
   "execution_count": null,
   "metadata": {},
   "outputs": [],
   "source": []
  },
  {
   "cell_type": "code",
   "execution_count": null,
   "metadata": {},
   "outputs": [],
   "source": []
  },
  {
   "cell_type": "code",
   "execution_count": null,
   "metadata": {},
   "outputs": [],
   "source": []
  },
  {
   "cell_type": "code",
   "execution_count": null,
   "metadata": {},
   "outputs": [],
   "source": []
  },
  {
   "cell_type": "code",
   "execution_count": null,
   "metadata": {},
   "outputs": [],
   "source": []
  }
 ],
 "metadata": {
  "kernelspec": {
   "display_name": "Python 3",
   "language": "python",
   "name": "python3"
  },
  "language_info": {
   "codemirror_mode": {
    "name": "ipython",
    "version": 3
   },
   "file_extension": ".py",
   "mimetype": "text/x-python",
   "name": "python",
   "nbconvert_exporter": "python",
   "pygments_lexer": "ipython3",
   "version": "3.8.5"
  }
 },
 "nbformat": 4,
 "nbformat_minor": 4
}
